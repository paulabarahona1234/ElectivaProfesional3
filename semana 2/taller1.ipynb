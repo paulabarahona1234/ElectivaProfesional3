{
 "cells": [
  {
   "cell_type": "markdown",
   "id": "d3f0723f",
   "metadata": {},
   "source": [
    "Ejercicio 1.\n",
    "lista = [20, 12, 21.3, 34]\n",
    "Implementa una función llamada `suma_lista` que reciba por parámetro una lista de números (por ejemplo, la variable `lista`) y retorne la suma de todos sus elementos.\n",
    "\n",
    "*Esta función debe retornar un número*."
   ]
  },
  {
   "cell_type": "code",
   "execution_count": 8,
   "id": "3c310b1a",
   "metadata": {},
   "outputs": [
    {
     "name": "stdout",
     "output_type": "stream",
     "text": [
      "87.3\n"
     ]
    }
   ],
   "source": [
    "def suma_lista(lista):\n",
    "    suma = 0\n",
    "    for numero in lista:\n",
    "        suma += numero\n",
    "    return suma\n",
    "\n",
    "lista = [20, 12, 21.3, 34]\n",
    "resultado = suma_lista(lista)\n",
    "print(resultado)\n",
    "    "
   ]
  },
  {
   "cell_type": "markdown",
   "id": "510f56ac",
   "metadata": {},
   "source": [
    "Ejercicio 2. \n",
    "lista = [23, \"2\", 46 , \"l\", 8.3, \"m\"] \n",
    "Implementa una función llamada `primera_letra` que reciba una lista de números y letras por parámetro (por ejemplo, la variable `lista`), y retorne el primer elemento que sea una letra. La función debe retornar una cadena de texto vacía (`\"\"`) si no encuentra una letra.\n",
    "\n",
    "*Esta función debe retornar una letra*."
   ]
  },
  {
   "cell_type": "code",
   "execution_count": null,
   "id": "6de951da",
   "metadata": {},
   "outputs": [
    {
     "name": "stdout",
     "output_type": "stream",
     "text": [
      "l\n"
     ]
    }
   ],
   "source": [
    "def primera_letra(lista):\n",
    "    for elemento in lista:      \n",
    "        if isinstance(elemento, str) and elemento.isalpha():\n",
    "            return elemento     \n",
    "    return \"\"  \n",
    "\n",
    "\n",
    "lista = [23, \"2\", 46 , \"l\", 8.3, \"m\"]\n",
    "resultado = primera_letra(lista)\n",
    "print(resultado)\n"
   ]
  },
  {
   "cell_type": "markdown",
   "id": "fee889e0",
   "metadata": {},
   "source": [
    "Ejercicio 3. lista = [4, 3, 8, 5, 6, 2, 7, 5] Implementa una función llamada `separar_pares_impares` que reciba una lista de números enteros por parámetro (por ejemplo, la variable `lista`) y retorne una tupla que contenga dos listas, cada una ordenada ascendentemente:\n",
    "\n",
    "* La primera lista debe contener los números pares.\n",
    "* La segunda lista debe contener los números impares.\n",
    "\n",
    "*Esta función debe retornar una tupla de listas*."
   ]
  },
  {
   "cell_type": "code",
   "execution_count": 12,
   "id": "0c434ffc",
   "metadata": {},
   "outputs": [
    {
     "name": "stdout",
     "output_type": "stream",
     "text": [
      "([2, 4, 6, 8], [3, 5, 5, 7])\n"
     ]
    }
   ],
   "source": [
    "def separar_pares_impares(lista):\n",
    "    pares = []\n",
    "    impares = []\n",
    "\n",
    "    for numero in lista:\n",
    "        if numero % 2 == 0:\n",
    "            pares.append(numero)\n",
    "        else:\n",
    "           impares.append(numero)  \n",
    "\n",
    "    pares.sort()\n",
    "    impares.sort()\n",
    "\n",
    "    return(pares,impares)\n",
    "\n",
    "lista = [4, 3, 8, 5, 6, 2, 7, 5] \n",
    "resultado = separar_pares_impares(lista)\n",
    "print(resultado)\n",
    "\n"
   ]
  },
  {
   "cell_type": "markdown",
   "id": "5afbac71",
   "metadata": {},
   "source": [
    "Ejercicio 4. Implementa una función anónima que reciba un número entero por parámetro (por ejemplo, la variable `trinta`) y retorne `True` si el número es mayor a 50. Guarda la función (sin ejecutar) en una variable llamada `mayor_a_cincuenta`.\n",
    "\n",
    "*Esta función debe retornar un valor booleano* (`True` o `False`)."
   ]
  },
  {
   "cell_type": "code",
   "execution_count": null,
   "id": "e8d8fbe2",
   "metadata": {},
   "outputs": [],
   "source": [
    "treinta = 30\n",
    "cuarenta_y_cinco = 45\n",
    "cincuenta = 50\n",
    "sesenta_y_tres = 63"
   ]
  },
  {
   "cell_type": "code",
   "execution_count": null,
   "id": "0d3941bd",
   "metadata": {},
   "outputs": [
    {
     "name": "stdout",
     "output_type": "stream",
     "text": [
      "False\n",
      "False\n",
      "False\n",
      "True\n"
     ]
    }
   ],
   "source": [
    "\n",
    "mayor_a_cincuenta = lambda numero: numero > 50\n",
    "\n",
    "treinta = 30\n",
    "cuarenta_y_cinco = 45\n",
    "cincuenta = 50\n",
    "sesenta_y_tres = 63\n",
    "\n",
    "\n",
    "print(mayor_a_cincuenta(treinta))          \n",
    "print(mayor_a_cincuenta(cuarenta_y_cinco)) \n",
    "print(mayor_a_cincuenta(cincuenta))        \n",
    "print(mayor_a_cincuenta(sesenta_y_tres))   \n",
    "\n",
    "\n",
    "\n",
    "\n"
   ]
  },
  {
   "cell_type": "markdown",
   "id": "2cceebc4",
   "metadata": {},
   "source": [
    "Ejercicio 5. lista = [3, 4, 2, 5, 5, 6, 3] Implementa una función llamada `modulo_del_minimo` que reciba una lista de números enteros por parámetro (por ejemplo, la variable `lista`), encuentre el valor más pequeño que se repita en la lista (`min_val_rep`) y retorne una función anónima. Esta función anónima debe recibir un número entero mayor a cero (`entero`) por parámetro y retornar el residuo de la división entre `min_val_rep` y `entero` (recomendamos usar el operador de residuo `%`).\n",
    "\n",
    "*Esta función debe retornar una función anónima*.\n",
    "\n",
    "##### Ejemplo\n",
    "```python\n",
    "    anon = modulo_del_minimo([3, 4, 2, 5, 5, 6, 3])\n",
    "    \n",
    "    anon(2) == 1\n",
    "```\n",
    "Una vez implementada la función `modulo_del_minimo`, ejectar el código anterior en una celda de Jupyter debe generar el *output* `True`."
   ]
  },
  {
   "cell_type": "code",
   "execution_count": 17,
   "id": "88c0f3d6",
   "metadata": {},
   "outputs": [
    {
     "name": "stdout",
     "output_type": "stream",
     "text": [
      "True\n"
     ]
    }
   ],
   "source": [
    "def modulo_del_minimo(lista):\n",
    "    \n",
    "    min_val = min(lista)\n",
    "    \n",
    " \n",
    "    if lista.count(min_val) > 1:\n",
    "        min_val_rep = min_val\n",
    "    else:\n",
    "        \n",
    "        repetidos = [x for x in lista if lista.count(x) > 1]\n",
    "        min_val_rep = min(repetidos)\n",
    "\n",
    "    \n",
    "    return lambda entero: min_val_rep % entero\n",
    "\n",
    "\n",
    "anon = modulo_del_minimo([3, 4, 2, 5, 5, 6, 3])\n",
    "print(anon(2) == 1)\n"
   ]
  }
 ],
 "metadata": {
  "kernelspec": {
   "display_name": "Python 3",
   "language": "python",
   "name": "python3"
  },
  "language_info": {
   "codemirror_mode": {
    "name": "ipython",
    "version": 3
   },
   "file_extension": ".py",
   "mimetype": "text/x-python",
   "name": "python",
   "nbconvert_exporter": "python",
   "pygments_lexer": "ipython3",
   "version": "3.10.11"
  }
 },
 "nbformat": 4,
 "nbformat_minor": 5
}
