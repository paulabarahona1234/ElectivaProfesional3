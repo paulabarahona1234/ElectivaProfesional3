{
 "cells": [
  {
   "cell_type": "markdown",
   "id": "b7905353",
   "metadata": {},
   "source": [
    "Ejercicio 1. En la siguiente celda encuentras declarada una variable que almacena una cadena de caracteres.  \n",
    "\n",
    "#cadena = \"Archivos de texto\"\n",
    "\n",
    "Implementa una función llamada `sustituir` que reciba por parámetro una cadena de texto (por ejemplo, la variable `cadena`) y retorne otra cadena en la cual se intercambien el segundo caracter y el penúltimo caracter.\n",
    "\n",
    "*Esta función debe retornar una cadena de texto.*\n"
   ]
  },
  {
   "cell_type": "code",
   "execution_count": 8,
   "id": "ba9fc32a",
   "metadata": {},
   "outputs": [
    {
     "name": "stdout",
     "output_type": "stream",
     "text": [
      "Atchivos de texro\n"
     ]
    }
   ],
   "source": [
    "def sustituir(cadena):\n",
    "    lista = list(cadena)\n",
    "\n",
    "    segundo = lista[1]\n",
    "    penultimo = lista[-2]\n",
    "\n",
    "    lista[1] = penultimo\n",
    "    lista[-2] = segundo\n",
    "\n",
    "    nueva_cadena = \"\".join(lista)\n",
    "\n",
    "    return nueva_cadena\n",
    "cadena = \"Archivos de texto\"\n",
    "print (sustituir(cadena))\n"
   ]
  },
  {
   "cell_type": "markdown",
   "id": "e6990993",
   "metadata": {},
   "source": [
    "Ejercicio 2. En la siguiente celda encuentras declarada una variable que almacena una cadena de caracteres representativa de la ruta relativa para el archivo `\"tesoro.txt\"`. Recuerda que para los talleres, los archivos necesarios están en el subdirectorio `\"Archivos\"`. \n",
    "\n",
    "#directorio = \"./Archivos/tesoro.txt\"\n",
    "\n",
    "Implementa una función llamada `archivo_a_lista` que reciba por parámetro una cadena de texto que represente la dirección de un archivo (por ejemplo, la variable `directorio`) y retorne una lista donde cada elemento es una linea del archivo encontrado.\n",
    "\n",
    "*Esta función debe retornar una lista de cadenas de texto.*"
   ]
  },
  {
   "cell_type": "code",
   "execution_count": 10,
   "id": "a6af48a3",
   "metadata": {},
   "outputs": [
    {
     "name": "stdout",
     "output_type": "stream",
     "text": [
      "['Principales tenedores de títulos del tesoro americano en lo que se lleva del 2020', 'País\\tJulio\\tJunio\\tMayo\\tAbril\\tMarzo\\tFebrero\\tEnero', 'Japón\\t1261.5\\t1260.4\\t1266.5\\t1272.6\\t1268.6\\t1211.8\\t1155.2', 'China\\t1074.4\\t1083.7\\t1072.8\\t1081.6\\t1092.3\\t1078.6\\t1069.9', 'Reino Unido\\t445.6\\t445.8\\t429.2\\t469.7\\t477.1\\t450.3\\t392.1', 'Irlanda\\t330.4\\t324.2\\t301.3\\t271.6\\t282.8\\t271.7\\t281.9', 'Hong kong\\t266.4\\t269.0\\t259.4\\t256.0\\t268.4\\t253.0\\t249.7', 'Brasil\\t264.1\\t264.4\\t259.5\\t264.4\\t285.9\\t283.3\\t281.8', 'Luxemburgo\\t267.6\\t262.7\\t265.5\\t246.1\\t260.8\\t255.2\\t254.6', 'Suiza\\t247.4\\t243.1\\t241.3\\t244.6\\t243.7\\t238.1\\t237.5', 'Islas Caimán\\t222.0\\t216.7\\t213.1\\t209.4\\t228.2\\t225.1\\t238.2', 'Bélgica\\t218.7\\t212.1\\t210.2\\t206.1\\t218.0\\t206.5\\t207.4', 'Taiwán\\t204.6\\t199.2\\t201.7\\t205.0\\t201.9\\t199.2\\t193.1', 'la India\\t182.7\\t169.9\\t157.4\\t156.5\\t177.5\\t164.3\\t162.0', 'Singapur\\t150.5\\t142.1\\t146.1\\t151.5\\t165.4\\t160.7\\t147.9', 'Canadá\\t127.5\\t129.9\\t136.3\\t131.5\\t148.3\\t157.9\\t143.3', 'Francia\\t144.2\\t130.5\\t137.7\\t156.0\\t147.6\\t134.0\\t127.7', 'Arabia Saudí\\t124.9\\t123.5\\t125.3\\t159.1\\t184.4\\t182.9\\t179.8', 'Corea del Sur\\t122.7\\t117.3\\t120.0\\t110.8\\t116.1\\t121.1\\t121.9', 'Noruega\\t89.5\\t87.6\\t93.2\\t98.0\\t103.3\\t97.7\\t90.1', 'Tailandia\\t85.5\\t85.8\\t80.5\\t81.8\\t91.3\\t96.0\\t90.5', 'Alemania\\t79.5\\t80.6\\t77.7\\t77.3\\t86.0\\t83.7\\t78.3', 'los Países Bajos\\t69.4\\t67.9\\t66.2\\t69.1\\t70.9\\t67.7\\t65.1', 'Bermudas\\t66.8\\t63.9\\t65.5\\t64.2\\t65.9\\t64.8\\t71.3', 'Israel\\t47.6\\t46.8\\t43.2\\t41.1\\t45.1\\t45.6\\t43.1', 'Kuwait\\t44.9\\t43.6\\t44.5\\t40.1\\t43.6\\t41.9\\t43.3', 'México\\t47.0\\t47.4\\t45.4\\t40.9\\t47.5\\t45.8\\t45.3', 'Filipinas\\t44.2\\t42.7\\t42.7\\t43.1\\t41.8\\t40.4\\t34.8', 'Australia\\t41.9\\t43.5\\t44.8\\t46.3\\t43.7\\t45.1\\t41.8', 'Italia\\t42.4\\t41.4\\t41.5\\t44.8\\t46.8\\t44.6\\t45.3', 'Polonia\\t39.7\\t38.0\\t34.4\\t35.6\\t38.8\\t37.7\\t38.8', 'España\\t44.0\\t47.3\\t44.0\\t43.8\\t46.2\\t43.9\\t50.4', 'Suecia\\t39.1\\t37.1\\t36.5\\t39.5\\t45.4\\t45.0\\t48.7', 'Chile\\t29.8\\t30.1\\t29.8\\t30.1\\t32.0\\t32.5\\t30.8', 'Todos los demas\\t595.2\\t572.5\\t580.0\\t570.2\\t561.0\\t611.0\\t601.0\\t582.7\\t589.1\\t589.6\\t586.3\\t613.8\\t580.1']\n"
     ]
    }
   ],
   "source": [
    "def archivo_a_lista(directorio):\n",
    "    with open(directorio, \"r\", encoding=\"utf-8\") as archivo:\n",
    "        lineas = archivo.readlines()\n",
    "\n",
    "    return [linea.strip() for linea in lineas]\n",
    "\n",
    "directorio = \"./Archivos/tesoro.txt\"\n",
    "print(archivo_a_lista(directorio))\n",
    "    "
   ]
  },
  {
   "cell_type": "markdown",
   "id": "effe209e",
   "metadata": {},
   "source": [
    "Ejercicio 3.    En la siguiente celda encuentras declarada una variable que almacena una lista de paises y otra que guarda el resultado de ejecutar tu respuesta al [ejercicio 2](#Ejercicio-2).\n",
    "\n",
    "```python\n",
    "lista_paises = ['Japón', 'Francia']\n",
    "lineas = archivo_a_lista(directorio)\n",
    "```\n",
    "\n",
    "Implementa una función llamada `filtrar_paises` que reciba por parámetro una lista de nombres de paises (por ejemplo, la variable `lista_paises`) y retorne una lista donde cada elemento es la linea del archivo `\"tesoro.txt\"`, correspondiente a cada país de la lista que se recibe por parámetro. Asegurate de haber realizado el ejercicio 2 correctamente y de usar la variable `lineas` en tu implementación para este ejercicio. A continuación, un ejemplo:\n",
    "\n",
    "Ejecutar la función `filtrar_paises([\"Suiza\",\"Noruega\"])` debe resultar en la siguiente lista:\n",
    "\n",
    "```python\n",
    "['Suiza\\t247.4\\t243.1\\t241.3\\t244.6\\t243.7\\t238.1\\t237.5\\t\\n',\n",
    " 'Noruega\\t89.5\\t87.6\\t93.2\\t98.0\\t103.3\\t97.7\\t90.1\\t\\n']\n",
    "```\n",
    "\n",
    "*Esta función debe retornar una lista de cadenas de texto.*"
   ]
  },
  {
   "cell_type": "code",
   "execution_count": null,
   "id": "9ad12e64",
   "metadata": {},
   "outputs": [
    {
     "name": "stdout",
     "output_type": "stream",
     "text": [
      "['Suiza\\t247.4\\t243.1\\t241.3\\t244.6\\t243.7\\t238.1\\t237.5\\t\\n', 'Noruega\\t89.5\\t87.6\\t93.2\\t98.0\\t103.3\\t97.7\\t90.1\\t\\n']\n"
     ]
    }
   ],
   "source": [
    "def archivo_a_lista(directorio):\n",
    "    with open(directorio, \"r\", encoding=\"utf-8\") as archivo:\n",
    "        return archivo.readlines()   \n",
    "\n",
    "directorio = \"./Archivos/tesoro.txt\"\n",
    "lineas = archivo_a_lista(directorio)\n",
    "\n",
    "def filtrar_paises(lista):\n",
    "    resultado = []\n",
    "    for linea in lineas:\n",
    "        for pais in lista:\n",
    "            if linea.startswith(pais):\n",
    "                resultado.append(linea)\n",
    "    return resultado\n",
    "\n",
    "print(filtrar_paises([\"Suiza\",\"Noruega\"]))"
   ]
  },
  {
   "cell_type": "markdown",
   "id": "a5a41ba1",
   "metadata": {},
   "source": [
    "Ejercicio 4.  Jorge y Juan apostaron al que hiciera la mejor predicción de la tabla final de las eliminatorias sudamericanas para el mundial de Rusia 2018. Jorge definió el siguiente pronóstico: \n",
    "\n",
    "|Puesto|<center>País</center>|\n",
    "|-------|-----------|\n",
    "|1| Brasil|\n",
    "|2| Argentina|\n",
    "|3 | Uruguay|\n",
    "|4| Colombia|\n",
    "|5| Chile|\n",
    "|6| Ecuador|\n",
    "|7| Perú|\n",
    "|8| Paraguay|\n",
    "|9| Venezuela|\n",
    "|10| Bolivia|\n",
    "\n",
    "Mientras que Juan definió el siguiente pronóstico:\n",
    "\n",
    "|Puesto|<center>País</center>|\n",
    "|-------|-----------|\n",
    "|1| Brasil|\n",
    "|2| Uruguay|\n",
    "|3 | Colombia|\n",
    "|4| Argentina|\n",
    "|5| Ecuador|\n",
    "|6| Chile|\n",
    "|7| Paraguay|\n",
    "|8| Perú|\n",
    "|9| Venezuela|\n",
    "|10| Bolivia|\n",
    "\n",
    "\n",
    "El criterio elegido para decidir quién gana la apuesta fue el error cuadrático medio (ECM). El cual, para este ejemplo específico, tendría la siguiente ecuación: \n",
    "\n",
    "$$\n",
    "ECM= \\frac{EC}{N} = \\frac{\\sum \\limits _{j=1} ^{10} (Y_{j}-\\hat{Y}_{j})^2}{10}\n",
    "$$\n",
    "\n",
    "\n",
    "Para calcular el ECM primero se calcula y eleva al cuadrado la diferencia entre la posición predicha ($\\hat{Y}_{j}$) y la posición que realmente ocupó el equipo ($Y_{j}$). Por ejemplo, supongamos que esta fue la tabla final de las eliminatorias de Rusia 2018. Los errores cuadráticos (EC) asociados con cada predicción serían los siguientes.\n",
    "\n",
    "\n",
    "|Puesto|<center>País</center>|EC(Jorge)|EC(Juan)|\n",
    "|-----|--------|-----|-----|\n",
    "|1|Brasil|0|0|\n",
    "|2|Uruguay|1|0|\n",
    "|3|Argentina|1|1|\n",
    "|4|Paraguay|16|9|\n",
    "|5|Colombia|1|4|\n",
    "|6|Chile|1|0|\n",
    "|7|Ecuador|1|4|\n",
    "|8|Perú|1|0|\n",
    "|9|Venezuela|0|0|\n",
    "|10|Bolivia|0|0|\n",
    "\n",
    "\n",
    "Después se calcula el promedio de los errores cuadráticos que en este caso sería de 2.2 para la predicción realizada por Jorge y de 1.8 para la predicción realizada por Juan. Siendo que el error cuadrático medio de Juan fue inferior al de Jorge, Juan sería el ganador.\n",
    "\n",
    "Jorge y Juan decidieron entonces usar la informaciòn del artículo de Wikipedia (2020) sobre las eliminatorias a Rusia2018. Puntualmente copiaron y pegaron la \"Tabla de Posiciones Final\" disponible en el artículo, en un archivo de texto llamado `\"Eliminatorias.txt\"`. Este archivo contiene la tabla ordenada con la clasificación final de los países así como otros datos deportivos que en este caso no nos interesa analizar (puntos, goles a favor, goles en contra, etc.).\n",
    "\n",
    "En la siguiente celda encuentras declaradas dos variables que almacenan en orden la clasificación pronosticada de Jorge y Juan respectivamente."
   ]
  },
  {
   "cell_type": "code",
   "execution_count": null,
   "id": "f83896d5",
   "metadata": {},
   "outputs": [],
   "source": [
    "pronostico_jorge = [\"Brasil\", \"Argentina\", \"Uruguay\", \"Colombia\", \"Chile\", \"Ecuador\", \"Perú\", \"Paraguay\", \"Venezuela\", \"Bolivia\"]\n",
    "pronostico_juan = [\"Brasil\", \"Uruguay\", \"Colombia\", \"Argentina\", \"Ecuador\", \"Chile\", \"Paraguay\", \"Perú\", \"Venezuela\", \"Bolivia\"]"
   ]
  },
  {
   "cell_type": "markdown",
   "id": "84d575c9",
   "metadata": {},
   "source": [
    "Implementa una función llamada `ECM` que reciba por parámetro una lista con el prónostico de Juan, una con el pronóstico de Jorge (en ese orden, por ejemplo, las variables `pronostico_jorge` y `pronostico_juan`). Tu función debe importar los resultados del archivo `\"Eliminatorias.txt\"` y retornar una tupla con el $ ECM $ de Jorge y Juan (en ese orden)."
   ]
  },
  {
   "cell_type": "code",
   "execution_count": 15,
   "id": "40fd46c6",
   "metadata": {},
   "outputs": [
    {
     "ename": "ValueError",
     "evalue": "'Pos.' is not in list",
     "output_type": "error",
     "traceback": [
      "\u001b[1;31m---------------------------------------------------------------------------\u001b[0m",
      "\u001b[1;31mValueError\u001b[0m                                Traceback (most recent call last)",
      "Cell \u001b[1;32mIn[15], line 20\u001b[0m\n\u001b[0;32m     17\u001b[0m directorio \u001b[38;5;241m=\u001b[39m \u001b[38;5;124m\"\u001b[39m\u001b[38;5;124m./Archivos/Eliminatorias.txt\u001b[39m\u001b[38;5;124m\"\u001b[39m\n\u001b[0;32m     18\u001b[0m tabla_real \u001b[38;5;241m=\u001b[39m archivo_a_lista(directorio)\n\u001b[1;32m---> 20\u001b[0m ecm_jorge \u001b[38;5;241m=\u001b[39m \u001b[43mcalcular_ecm\u001b[49m\u001b[43m(\u001b[49m\u001b[43mpronostico_jorge\u001b[49m\u001b[43m,\u001b[49m\u001b[43m \u001b[49m\u001b[43mtabla_real\u001b[49m\u001b[43m)\u001b[49m\n\u001b[0;32m     21\u001b[0m ecm_juan  \u001b[38;5;241m=\u001b[39m calcular_ecm(pronostico_juan, tabla_real)\n\u001b[0;32m     23\u001b[0m \u001b[38;5;28mprint\u001b[39m(\u001b[38;5;124m\"\u001b[39m\u001b[38;5;124mECM Jorge:\u001b[39m\u001b[38;5;124m\"\u001b[39m, ecm_jorge)\n",
      "Cell \u001b[1;32mIn[15], line 10\u001b[0m, in \u001b[0;36mcalcular_ecm\u001b[1;34m(pronostico, tabla_real)\u001b[0m\n\u001b[0;32m      8\u001b[0m \u001b[38;5;28;01mfor\u001b[39;00m i, pais \u001b[38;5;129;01min\u001b[39;00m \u001b[38;5;28menumerate\u001b[39m(tabla_real):\n\u001b[0;32m      9\u001b[0m     pos_real \u001b[38;5;241m=\u001b[39m i \u001b[38;5;241m+\u001b[39m \u001b[38;5;241m1\u001b[39m\n\u001b[1;32m---> 10\u001b[0m     pos_pred \u001b[38;5;241m=\u001b[39m \u001b[43mpronostico\u001b[49m\u001b[38;5;241;43m.\u001b[39;49m\u001b[43mindex\u001b[49m\u001b[43m(\u001b[49m\u001b[43mpais\u001b[49m\u001b[43m)\u001b[49m \u001b[38;5;241m+\u001b[39m \u001b[38;5;241m1\u001b[39m\n\u001b[0;32m     11\u001b[0m     suma \u001b[38;5;241m+\u001b[39m\u001b[38;5;241m=\u001b[39m (pos_real \u001b[38;5;241m-\u001b[39m pos_pred) \u001b[38;5;241m*\u001b[39m\u001b[38;5;241m*\u001b[39m \u001b[38;5;241m2\u001b[39m\n\u001b[0;32m     12\u001b[0m \u001b[38;5;28;01mreturn\u001b[39;00m suma \u001b[38;5;241m/\u001b[39m n\n",
      "\u001b[1;31mValueError\u001b[0m: 'Pos.' is not in list"
     ]
    }
   ],
   "source": [
    "def archivo_a_lista(directorio):\n",
    "    with open(directorio, \"r\", encoding=\"utf-8\") as f:\n",
    "        return [linea.strip().split(\"\\t\")[0] for linea in f if linea.strip()]\n",
    "\n",
    "def calcular_ecm(pronostico, tabla_real):\n",
    "    n = len(tabla_real)\n",
    "    suma = 0\n",
    "    for i, pais in enumerate(tabla_real):\n",
    "        pos_real = i + 1\n",
    "        pos_pred = pronostico.index(pais) + 1\n",
    "        suma += (pos_real - pos_pred) ** 2\n",
    "    return suma / n\n",
    "\n",
    "pronostico_jorge = [\"Brasil\", \"Argentina\", \"Uruguay\", \"Colombia\", \"Chile\", \"Ecuador\", \"Perú\", \"Paraguay\", \"Venezuela\", \"Bolivia\"]\n",
    "pronostico_juan  = [\"Brasil\", \"Uruguay\", \"Colombia\", \"Argentina\", \"Ecuador\", \"Chile\", \"Paraguay\", \"Perú\", \"Venezuela\", \"Bolivia\"]\n",
    "\n",
    "directorio = \"./Archivos/Eliminatorias.txt\"\n",
    "tabla_real = archivo_a_lista(directorio)\n",
    "\n",
    "ecm_jorge = calcular_ecm(pronostico_jorge, tabla_real)\n",
    "ecm_juan  = calcular_ecm(pronostico_juan, tabla_real)\n",
    "\n",
    "print(\"ECM Jorge:\", ecm_jorge)\n",
    "print(\"ECM Juan:\", ecm_juan)\n",
    "\n",
    "if ecm_jorge < ecm_juan:\n",
    "    print(\"Ganador: Jorge\")\n",
    "elif ecm_juan < ecm_jorge:\n",
    "    print(\"Ganador: Juan\")\n",
    "else:\n",
    "    print(\"Empate\")\n"
   ]
  }
 ],
 "metadata": {
  "kernelspec": {
   "display_name": "Python 3",
   "language": "python",
   "name": "python3"
  },
  "language_info": {
   "codemirror_mode": {
    "name": "ipython",
    "version": 3
   },
   "file_extension": ".py",
   "mimetype": "text/x-python",
   "name": "python",
   "nbconvert_exporter": "python",
   "pygments_lexer": "ipython3",
   "version": "3.10.11"
  }
 },
 "nbformat": 4,
 "nbformat_minor": 5
}
